{
 "cells": [
  {
   "cell_type": "markdown",
   "metadata": {
    "slideshow": {
     "slide_type": "slide"
    }
   },
   "source": [
    "# Chunking (Big Data) Files in Python"
   ]
  },
  {
   "cell_type": "markdown",
   "metadata": {
    "slideshow": {
     "slide_type": "slide"
    }
   },
   "source": [
    "Chunking:  \n",
    "To break your files into smaller more manageable units (or chunks) that are processed individually\n",
    "\n",
    "Benifits:\n",
    "1. You can make use of multiple processors.\n",
    "2. You can avoid memory overflow"
   ]
  },
  {
   "cell_type": "markdown",
   "metadata": {
    "slideshow": {
     "slide_type": "subslide"
    }
   },
   "source": [
    "Big data:  \n",
    "A term for data sets that are so large or complex that traditional data processing applications are inadequate.\n",
    "\n",
    "For me:   \n",
    "- Ribo-seq files ~100GB. \n",
    "- Processing 50+ \n",
    "\n",
    "For Malte:\n",
    "- Anything that doesn't fit in his RAM"
   ]
  },
  {
   "cell_type": "markdown",
   "metadata": {
    "slideshow": {
     "slide_type": "slide"
    }
   },
   "source": [
    "##Set-up"
   ]
  },
  {
   "cell_type": "markdown",
   "metadata": {
    "slideshow": {
     "slide_type": "subslide"
    }
   },
   "source": [
    "###The task at hand\n",
    "\n",
    "Count the number of \"A\"s in a text document"
   ]
  },
  {
   "cell_type": "code",
   "execution_count": 35,
   "metadata": {
    "collapsed": false,
    "slideshow": {
     "slide_type": "-"
    }
   },
   "outputs": [],
   "source": [
    "def process(line):\n",
    "    return line.count(\"A\")"
   ]
  },
  {
   "cell_type": "markdown",
   "metadata": {
    "slideshow": {
     "slide_type": "subslide"
    }
   },
   "source": [
    "###Data!"
   ]
  },
  {
   "cell_type": "code",
   "execution_count": 36,
   "metadata": {
    "collapsed": false,
    "slideshow": {
     "slide_type": "-"
    }
   },
   "outputs": [
    {
     "data": {
      "text/plain": [
       "338864169"
      ]
     },
     "execution_count": 36,
     "metadata": {},
     "output_type": "execute_result"
    }
   ],
   "source": [
    "import os\n",
    "fname = \"data/input.fa\"\n",
    "if not os.path.exists(fname):\n",
    "    !curl -o \"data/input.fa.gz\" ftp://ftp.ensembl.org/pub/release-85/fasta/homo_sapiens/cdna/Homo_sapiens.GRCh38.cdna.all.fa.gz\n",
    "    !gzip -d \"input.fa.gz\"\n",
    "os.path.getsize(fname)"
   ]
  },
  {
   "cell_type": "markdown",
   "metadata": {
    "slideshow": {
     "slide_type": "fragment"
    }
   },
   "source": [
    "(That's 323M)"
   ]
  },
  {
   "cell_type": "markdown",
   "metadata": {
    "slideshow": {
     "slide_type": "slide"
    }
   },
   "source": [
    "##How to read a file"
   ]
  },
  {
   "cell_type": "markdown",
   "metadata": {
    "slideshow": {
     "slide_type": "subslide"
    }
   },
   "source": [
    "###Attempt 1"
   ]
  },
  {
   "cell_type": "code",
   "execution_count": 37,
   "metadata": {
    "collapsed": false,
    "scrolled": true,
    "slideshow": {
     "slide_type": "-"
    }
   },
   "outputs": [
    {
     "name": "stdout",
     "output_type": "stream",
     "text": [
      "74482847\n",
      "6.20921707153\n"
     ]
    }
   ],
   "source": [
    "import time\n",
    "\n",
    "t = time.time()\n",
    "with open(fname) as f:\n",
    "    data = f.readlines()\n",
    "    count = 0\n",
    "    for line in data:\n",
    "        count += process(line)\n",
    "print count\n",
    "print time.time() - t"
   ]
  },
  {
   "cell_type": "markdown",
   "metadata": {
    "slideshow": {
     "slide_type": "subslide"
    }
   },
   "source": [
    "###Attempt 2"
   ]
  },
  {
   "cell_type": "code",
   "execution_count": 38,
   "metadata": {
    "collapsed": false,
    "slideshow": {
     "slide_type": "-"
    }
   },
   "outputs": [
    {
     "name": "stdout",
     "output_type": "stream",
     "text": [
      "74482847\n"
     ]
    }
   ],
   "source": [
    "with open(fname) as f:\n",
    "    count = 0\n",
    "    for line in f: \n",
    "        count += process(line)\n",
    "print count"
   ]
  },
  {
   "cell_type": "markdown",
   "metadata": {
    "slideshow": {
     "slide_type": "slide"
    }
   },
   "source": [
    "##How to read a file using multiple processors"
   ]
  },
  {
   "cell_type": "markdown",
   "metadata": {
    "slideshow": {
     "slide_type": "slide"
    }
   },
   "source": [
    "###Attempt 1"
   ]
  },
  {
   "cell_type": "code",
   "execution_count": 39,
   "metadata": {
    "collapsed": true,
    "slideshow": {
     "slide_type": "subslide"
    }
   },
   "outputs": [],
   "source": [
    "import multiprocessing as mp\n",
    "\n",
    "cores = 4\n",
    "if 0:\n",
    "    pool = mp.Pool(cores)\n",
    "    jobs = []\n",
    "    count = 0\n",
    "\n",
    "    #create jobs\n",
    "    with open(fname) as f:\n",
    "        for line in f:\n",
    "            jobs.append( pool.apply_async(process,(line,)) )\n",
    "\n",
    "    #wait for all jobs to finish\n",
    "    for job in jobs:\n",
    "        count += job.get()\n",
    "\n",
    "    print count\n",
    "    pool.close()"
   ]
  },
  {
   "cell_type": "markdown",
   "metadata": {
    "slideshow": {
     "slide_type": "subslide"
    }
   },
   "source": [
    "###Attempt 2"
   ]
  },
  {
   "cell_type": "code",
   "execution_count": 40,
   "metadata": {
    "collapsed": true,
    "slideshow": {
     "slide_type": "subslide"
    }
   },
   "outputs": [],
   "source": [
    "def process_wrapper(lineID):\n",
    "    with open(fname) as f:\n",
    "        for i,line in enumerate(f):\n",
    "            if i == lineID:\n",
    "                return process(line)"
   ]
  },
  {
   "cell_type": "code",
   "execution_count": 41,
   "metadata": {
    "collapsed": true,
    "slideshow": {
     "slide_type": "subslide"
    }
   },
   "outputs": [],
   "source": [
    "if 0:\n",
    "    pool = mp.Pool(cores)\n",
    "    jobs = []\n",
    "    count = 0\n",
    "\n",
    "    with open(fname) as f:\n",
    "        for lineID,line in enumerate(f):\n",
    "            jobs.append( pool.apply_async(process_wrapper,(lineID,)) )\n",
    "\n",
    "    for job in jobs:\n",
    "        count += job.get()\n",
    "        \n",
    "    print count\n",
    "    pool.close()"
   ]
  },
  {
   "cell_type": "markdown",
   "metadata": {
    "slideshow": {
     "slide_type": "slide"
    }
   },
   "source": [
    "###Attempt 3"
   ]
  },
  {
   "cell_type": "code",
   "execution_count": 42,
   "metadata": {
    "collapsed": true,
    "slideshow": {
     "slide_type": "subslide"
    }
   },
   "outputs": [],
   "source": [
    "def process_wrapper(lineByte):\n",
    "    with open(fname) as f:\n",
    "        f.seek(lineByte)\n",
    "        line = f.readline()\n",
    "        return process(line)"
   ]
  },
  {
   "cell_type": "code",
   "execution_count": 43,
   "metadata": {
    "collapsed": false,
    "slideshow": {
     "slide_type": "subslide"
    }
   },
   "outputs": [],
   "source": [
    "if 0:\n",
    "    pool = mp.Pool(cores)\n",
    "    jobs = []\n",
    "    count = 0\n",
    "\n",
    "    with open(fname) as f:\n",
    "        lineByte = f.tell()\n",
    "        for line in iter(f.readline, ''):\n",
    "            jobs.append( pool.apply_async(process_wrapper,(lineByte,)) )\n",
    "            lineByte = f.tell()\n",
    "\n",
    "    for job in jobs:\n",
    "        count += job.get()\n",
    "\n",
    "    print count\n",
    "    pool.close()"
   ]
  },
  {
   "cell_type": "markdown",
   "metadata": {
    "slideshow": {
     "slide_type": "slide"
    }
   },
   "source": [
    "##Let's get chunky"
   ]
  },
  {
   "cell_type": "code",
   "execution_count": 44,
   "metadata": {
    "collapsed": false,
    "slideshow": {
     "slide_type": "subslide"
    }
   },
   "outputs": [
    {
     "name": "stdout",
     "output_type": "stream",
     "text": [
      "27.0007138252\n",
      "10.415681839\n"
     ]
    }
   ],
   "source": [
    "import timeit\n",
    "print timeit.timeit('f=open(\"data/input.fa\");sum([l.count(\"A\") for l in f])',number=10)\n",
    "print timeit.timeit('f=open(\"data/input.fa\");sum([c.count(\"A\") for c in iter(lambda: f.read(1024*1024),\"\")])',number=10)"
   ]
  },
  {
   "cell_type": "code",
   "execution_count": 45,
   "metadata": {
    "collapsed": true,
    "slideshow": {
     "slide_type": "subslide"
    }
   },
   "outputs": [],
   "source": [
    "def chunkify(fname,size=1024*1024):\n",
    "    fileEnd = os.path.getsize(fname)\n",
    "    with open(fname,'r') as f:\n",
    "        chunkEnd = f.tell()\n",
    "        while True:\n",
    "            chunkStart = chunkEnd\n",
    "            f.seek(size,1)\n",
    "            f.readline() #finish line\n",
    "            chunkEnd = f.tell()\n",
    "            yield chunkStart, chunkEnd - chunkStart\n",
    "            if chunkEnd > fileEnd:\n",
    "                break\n",
    "\n",
    "def process_wrapper(fname,chunkStart, chunkSize):\n",
    "    with open(fname) as f:\n",
    "        f.seek(chunkStart)\n",
    "        lines = f.read(chunkSize).splitlines()\n",
    "        count = 0\n",
    "        for line in lines:\n",
    "            count += process(line)\n",
    "        return count"
   ]
  },
  {
   "cell_type": "code",
   "execution_count": 46,
   "metadata": {
    "collapsed": false,
    "slideshow": {
     "slide_type": "subslide"
    }
   },
   "outputs": [
    {
     "name": "stdout",
     "output_type": "stream",
     "text": [
      "74482847\n",
      "1.85110187531\n"
     ]
    }
   ],
   "source": [
    "t = time.time()\n",
    "pool = mp.Pool(cores)\n",
    "jobs = []\n",
    "count = 0\n",
    "\n",
    "#create jobs\n",
    "for chunkStart,chunkSize in chunkify(fname):\n",
    "    jobs.append( pool.apply_async(process_wrapper,(fname,chunkStart,chunkSize)) )\n",
    "\n",
    "#wait for all jobs to finish\n",
    "for job in jobs:\n",
    "    count += job.get()\n",
    "\n",
    "#clean up\n",
    "pool.close()\n",
    "print count\n",
    "print time.time() - t"
   ]
  },
  {
   "cell_type": "markdown",
   "metadata": {
    "slideshow": {
     "slide_type": "slide"
    }
   },
   "source": [
    "##A more pratical example"
   ]
  },
  {
   "cell_type": "markdown",
   "metadata": {
    "slideshow": {
     "slide_type": "subslide"
    }
   },
   "source": [
    "###The task at hand\n",
    "\n",
    "Get the lengths of each sequence in a Fasta file"
   ]
  },
  {
   "cell_type": "markdown",
   "metadata": {
    "slideshow": {
     "slide_type": "subslide"
    }
   },
   "source": [
    "An example fasta file:\n",
    "```\n",
    ">SEQUENCE_1\n",
    "MTEITAAMVKELRESTGAGMMDCKNALSETNGDFDKAVQLLREKGLGKAAKKADRLAAEG\n",
    "LVSVKVSDDFTIAAMRPSYLSYEDLDMTFVENEYKALVAELEKENEERRRLKDPNKPEHK\n",
    "IPQFASRKQLSDAILKEAEEKIKEELKAQGKPEKIWDNIIPGKMNSFIADNSQLDSKLTL\n",
    "MGQFYVMDDKKTVEQVIAEKEKEFGGKIKIVEFICFEVGEGLEKKTEDFAAEVAAQL\n",
    ">SEQUENCE_2\n",
    "SATVSEINSETDFVAKNDQFIALTKDTTAHIQSNSLQSVEELHSSTINGVKFEEYLKSQI\n",
    "ATIGENLVVRRFATLKAGANGVVNGYIHTNGRVGVVIAAACDSAEVASKSRDLLRQICMH\n",
    "```"
   ]
  },
  {
   "cell_type": "code",
   "execution_count": 47,
   "metadata": {
    "collapsed": true,
    "slideshow": {
     "slide_type": "subslide"
    }
   },
   "outputs": [],
   "source": [
    "def chunkify(fname,size=1024*1024):\n",
    "    fileEnd = os.path.getsize(fname)\n",
    "    with open(fname,'r') as f:\n",
    "        chunkEnd = f.tell()\n",
    "        while True:\n",
    "            chunkStart = chunkEnd\n",
    "            f.seek(size,1)\n",
    "            l = f.readline() #incomplete line\n",
    "            p = f.tell()\n",
    "            l = f.readline()\n",
    "            while l and l[0] != '>': #find the start of sequence\n",
    "                p = f.tell()\n",
    "                l = f.readline()\n",
    "            f.seek(p) #revert one line\n",
    "            \n",
    "            chunkEnd = f.tell()\n",
    "            yield chunkStart, chunkEnd - chunkStart\n",
    "            if chunkEnd > fileEnd:\n",
    "                break"
   ]
  },
  {
   "cell_type": "code",
   "execution_count": 48,
   "metadata": {
    "collapsed": true,
    "slideshow": {
     "slide_type": "subslide"
    }
   },
   "outputs": [],
   "source": [
    "def process(fname,chunkStart,chunkSize):\n",
    "    with open(fname) as f:\n",
    "        f.seek(chunkStart)\n",
    "        lines = f.read(chunkSize).splitlines()\n",
    "        counts = []\n",
    "        count = 0\n",
    "        for line in lines[1:]:\n",
    "            if line[0] == '>':\n",
    "                counts.append(count)\n",
    "                count = 0\n",
    "            else:\n",
    "                count += len(line)\n",
    "        counts.append(count)\n",
    "        return counts"
   ]
  },
  {
   "cell_type": "code",
   "execution_count": 49,
   "metadata": {
    "collapsed": false,
    "slideshow": {
     "slide_type": "subslide"
    }
   },
   "outputs": [
    {
     "name": "stdout",
     "output_type": "stream",
     "text": [
      "[13, 12, 12, 9, 8, 16, 17, 19, 18, 31, 11, 31, 31, 17, 21, 19, 20, 18, 20, 21, 16, 18, 17, 17, 16, 37, 20, 23, 31, 31, 31, 31, 17, 23, 23, 31, 20, 31, 28, 11, 21, 31, 17, 20, 31, 31, 31, 17, 18, 28]\n"
     ]
    }
   ],
   "source": [
    "#init objects\n",
    "pool = mp.Pool(cores)\n",
    "jobs = []\n",
    "counts = []\n",
    "\n",
    "#create jobs\n",
    "for chunkStart,chunkSize in chunkify(fname):\n",
    "    jobs.append( pool.apply_async(process,(fname,chunkStart,chunkSize)) )\n",
    "\n",
    "#wait for all jobs to finish\n",
    "for job in jobs:\n",
    "    counts += job.get()\n",
    "\n",
    "counts\n",
    "pool.close()"
   ]
  },
  {
   "cell_type": "code",
   "execution_count": 53,
   "metadata": {
    "collapsed": false,
    "slideshow": {
     "slide_type": "subslide"
    }
   },
   "outputs": [
    {
     "data": {
      "image/png": "[encoded data removed]",
      "text/plain": [
       "<matplotlib.figure.Figure at 0x131d86ed0>"
      ]
     },
     "metadata": {},
     "output_type": "display_data"
    }
   ],
   "source": [
    "import matplotlib.pyplot as plt\n",
    "%matplotlib inline\n",
    "plt.hist(counts,100)\n",
    "plt.show()"
   ]
  }
 ],
 "metadata": {
  "celltoolbar": "Slideshow",
  "kernelspec": {
   "display_name": "Python 2",
   "language": "python",
   "name": "python2"
  },
  "language_info": {
   "codemirror_mode": {
    "name": "ipython",
    "version": 2
   },
   "file_extension": ".py",
   "mimetype": "text/x-python",
   "name": "python",
   "nbconvert_exporter": "python",
   "pygments_lexer": "ipython2",
   "version": "2.7.11"
  }
 },
 "nbformat": 4,
 "nbformat_minor": 0
}
